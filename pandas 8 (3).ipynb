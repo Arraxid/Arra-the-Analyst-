{
 "cells": [
  {
   "cell_type": "markdown",
   "id": "5b02dafb",
   "metadata": {},
   "source": [
    "\n",
    "\n",
    "# ¿Qué hay más en el catálogo, películas o series?\n",
    "# ¿En qué años hay más contenido, es decir, de qué añoshay mayor cantidad de contenido?\n",
    "# ¿Qué género tiene más contenido?\n",
    "# ¿Cuáles son los géneros únicos, no mezclados?\n",
    "# ¿Cuántos elementos hay por cada categoría única?\n",
    "# ¿Cómo se distribuye el contenido por cada plataforma?\n",
    "# Y si comparamos por serie y películas, ¿Cuántos hay en cada plataforma?\n",
    "# ¿Qué tan viejo / nuevo es el contenido total?\n",
    "# Y si lo desglozamos por plataforma, ¿cómo sería?\n",
    "# Grafiquemos los géneros más populares por plataforma.\n",
    "\n",
    "\n",
    "\n",
    "\n"
   ]
  },
  {
   "cell_type": "code",
   "execution_count": 1,
   "id": "4daa17c0",
   "metadata": {},
   "outputs": [],
   "source": [
    "import numpy as np \n",
    "import pandas as pd\n",
    "import matplotlib.pyplot as plt\n",
    "import matplotlib.cm as cm\n",
    "import seaborn as sns"
   ]
  },
  {
   "cell_type": "code",
   "execution_count": 254,
   "id": "dbdf38d4",
   "metadata": {},
   "outputs": [
    {
     "data": {
      "text/html": [
       "<div>\n",
       "<style scoped>\n",
       "    .dataframe tbody tr th:only-of-type {\n",
       "        vertical-align: middle;\n",
       "    }\n",
       "\n",
       "    .dataframe tbody tr th {\n",
       "        vertical-align: top;\n",
       "    }\n",
       "\n",
       "    .dataframe thead th {\n",
       "        text-align: right;\n",
       "    }\n",
       "</style>\n",
       "<table border=\"1\" class=\"dataframe\">\n",
       "  <thead>\n",
       "    <tr style=\"text-align: right;\">\n",
       "      <th></th>\n",
       "      <th>id</th>\n",
       "      <th>title</th>\n",
       "      <th>type</th>\n",
       "      <th>description</th>\n",
       "      <th>release_year</th>\n",
       "      <th>age_certification</th>\n",
       "      <th>runtime</th>\n",
       "      <th>genres</th>\n",
       "      <th>production_countries</th>\n",
       "      <th>seasons</th>\n",
       "      <th>imdb_id</th>\n",
       "      <th>imdb_score</th>\n",
       "      <th>imdb_votes</th>\n",
       "      <th>tmdb_popularity</th>\n",
       "      <th>tmdb_score</th>\n",
       "      <th>service</th>\n",
       "    </tr>\n",
       "  </thead>\n",
       "  <tbody>\n",
       "    <tr>\n",
       "      <th>0</th>\n",
       "      <td>tm155702</td>\n",
       "      <td>The Wizard of Oz</td>\n",
       "      <td>MOVIE</td>\n",
       "      <td>Young Dorothy finds herself in a magical world...</td>\n",
       "      <td>1939</td>\n",
       "      <td>G</td>\n",
       "      <td>102</td>\n",
       "      <td>['fantasy', 'family']</td>\n",
       "      <td>['US']</td>\n",
       "      <td>NaN</td>\n",
       "      <td>tt0032138</td>\n",
       "      <td>8.1</td>\n",
       "      <td>389774.0</td>\n",
       "      <td>41.442</td>\n",
       "      <td>7.6</td>\n",
       "      <td>HBO Max</td>\n",
       "    </tr>\n",
       "    <tr>\n",
       "      <th>1</th>\n",
       "      <td>tm83648</td>\n",
       "      <td>Citizen Kane</td>\n",
       "      <td>MOVIE</td>\n",
       "      <td>Newspaper magnate, Charles Foster Kane is take...</td>\n",
       "      <td>1941</td>\n",
       "      <td>PG</td>\n",
       "      <td>119</td>\n",
       "      <td>['drama']</td>\n",
       "      <td>['US']</td>\n",
       "      <td>NaN</td>\n",
       "      <td>tt0033467</td>\n",
       "      <td>8.3</td>\n",
       "      <td>433804.0</td>\n",
       "      <td>14.383</td>\n",
       "      <td>8.0</td>\n",
       "      <td>HBO Max</td>\n",
       "    </tr>\n",
       "  </tbody>\n",
       "</table>\n",
       "</div>"
      ],
      "text/plain": [
       "         id             title   type  \\\n",
       "0  tm155702  The Wizard of Oz  MOVIE   \n",
       "1   tm83648      Citizen Kane  MOVIE   \n",
       "\n",
       "                                         description  release_year  \\\n",
       "0  Young Dorothy finds herself in a magical world...          1939   \n",
       "1  Newspaper magnate, Charles Foster Kane is take...          1941   \n",
       "\n",
       "  age_certification  runtime                 genres production_countries  \\\n",
       "0                 G      102  ['fantasy', 'family']               ['US']   \n",
       "1                PG      119              ['drama']               ['US']   \n",
       "\n",
       "   seasons    imdb_id  imdb_score  imdb_votes  tmdb_popularity  tmdb_score  \\\n",
       "0      NaN  tt0032138         8.1    389774.0           41.442         7.6   \n",
       "1      NaN  tt0033467         8.3    433804.0           14.383         8.0   \n",
       "\n",
       "   service  \n",
       "0  HBO Max  \n",
       "1  HBO Max  "
      ]
     },
     "execution_count": 254,
     "metadata": {},
     "output_type": "execute_result"
    }
   ],
   "source": [
    "import pandas as pd\n",
    "all_datos = pd.read_csv('streaming_t.csv', index_col=0)\n",
    "all_datos.head(2)\n"
   ]
  },
  {
   "cell_type": "code",
   "execution_count": null,
   "id": "b211190f",
   "metadata": {},
   "outputs": [],
   "source": []
  },
  {
   "cell_type": "code",
   "execution_count": 255,
   "id": "94b64f1e",
   "metadata": {},
   "outputs": [
    {
     "data": {
      "text/plain": [
       "(23331, 16)"
      ]
     },
     "execution_count": 255,
     "metadata": {},
     "output_type": "execute_result"
    }
   ],
   "source": [
    "all_datos.shape\n"
   ]
  },
  {
   "cell_type": "code",
   "execution_count": 256,
   "id": "af6affc6",
   "metadata": {},
   "outputs": [
    {
     "data": {
      "text/plain": [
       "Index(['id', 'title', 'type', 'description', 'release_year',\n",
       "       'age_certification', 'runtime', 'genres', 'production_countries',\n",
       "       'seasons', 'imdb_id', 'imdb_score', 'imdb_votes', 'tmdb_popularity',\n",
       "       'tmdb_score', 'service'],\n",
       "      dtype='object')"
      ]
     },
     "execution_count": 256,
     "metadata": {},
     "output_type": "execute_result"
    }
   ],
   "source": [
    "all_datos.columns"
   ]
  },
  {
   "cell_type": "code",
   "execution_count": 257,
   "id": "36910870",
   "metadata": {},
   "outputs": [
    {
     "data": {
      "text/plain": [
       "id                          0\n",
       "title                       1\n",
       "type                        0\n",
       "description               168\n",
       "release_year                0\n",
       "age_certification       12153\n",
       "runtime                     0\n",
       "genres                      0\n",
       "production_countries        0\n",
       "seasons                 18130\n",
       "imdb_id                  1998\n",
       "imdb_score               2555\n",
       "imdb_votes               2595\n",
       "tmdb_popularity           742\n",
       "tmdb_score               3265\n",
       "service                     0\n",
       "dtype: int64"
      ]
     },
     "execution_count": 257,
     "metadata": {},
     "output_type": "execute_result"
    }
   ],
   "source": [
    "all_datos.isna().sum()"
   ]
  },
  {
   "cell_type": "markdown",
   "id": "f2fc7295",
   "metadata": {},
   "source": [
    "# ¿Qué hay más en el catálogo, películas o series?"
   ]
  },
  {
   "cell_type": "code",
   "execution_count": 258,
   "id": "aea87462",
   "metadata": {},
   "outputs": [
    {
     "data": {
      "text/plain": [
       "type\n",
       "MOVIE    18130\n",
       "SHOW      5201\n",
       "Name: id, dtype: int64"
      ]
     },
     "execution_count": 258,
     "metadata": {},
     "output_type": "execute_result"
    }
   ],
   "source": [
    "\n",
    "peli_or_seri=all_datos.groupby([\"type\"])[\"id\"].count()\n",
    "peli_or_seri"
   ]
  },
  {
   "cell_type": "code",
   "execution_count": 259,
   "id": "8781b8d4",
   "metadata": {},
   "outputs": [
    {
     "data": {
      "text/plain": [
       "<AxesSubplot:xlabel='type'>"
      ]
     },
     "execution_count": 259,
     "metadata": {},
     "output_type": "execute_result"
    },
    {
     "data": {
      "image/png": "[encoded data removed]",
      "text/plain": [
       "<Figure size 432x288 with 1 Axes>"
      ]
     },
     "metadata": {
      "needs_background": "light"
     },
     "output_type": "display_data"
    }
   ],
   "source": [
    "peli_or_seri.plot(kind=\"bar\", color=[\"orchid\",\"cyan\"])\n"
   ]
  },
  {
   "cell_type": "markdown",
   "id": "e7c44e33",
   "metadata": {},
   "source": [
    "## hay más peliculas"
   ]
  },
  {
   "cell_type": "markdown",
   "id": "febbf9f1",
   "metadata": {},
   "source": [
    "# ¿En qué años hay más contenido, es decir, de qué años hay mayor cantidad de contenido?"
   ]
  },
  {
   "cell_type": "code",
   "execution_count": 260,
   "id": "98b5e611",
   "metadata": {},
   "outputs": [
    {
     "data": {
      "text/plain": [
       "release_year\n",
       "1901       1\n",
       "1902       2\n",
       "1903       1\n",
       "1904       1\n",
       "1906       2\n",
       "        ... \n",
       "2018    1829\n",
       "2019    2090\n",
       "2020    1986\n",
       "2021    2104\n",
       "2022     423\n",
       "Name: id, Length: 116, dtype: int64"
      ]
     },
     "execution_count": 260,
     "metadata": {},
     "output_type": "execute_result"
    }
   ],
   "source": [
    "year_max_content=all_datos.groupby([\"release_year\"])[\"id\"].count()\n",
    "year_max_content"
   ]
  },
  {
   "cell_type": "code",
   "execution_count": 261,
   "id": "7296e7bc",
   "metadata": {},
   "outputs": [
    {
     "data": {
      "text/plain": [
       "<AxesSubplot:xlabel='release_year'>"
      ]
     },
     "execution_count": 261,
     "metadata": {},
     "output_type": "execute_result"
    },
    {
     "data": {
      "image/png": "[encoded data removed]",
      "text/plain": [
       "<Figure size 648x648 with 1 Axes>"
      ]
     },
     "metadata": {
      "needs_background": "light"
     },
     "output_type": "display_data"
    }
   ],
   "source": [
    "import matplotlib.pyplot as plt\n",
    "plt.figure(figsize=(9,9))\n",
    "year_max_content.plot(color=\"darkorchid\")\n"
   ]
  },
  {
   "cell_type": "code",
   "execution_count": 262,
   "id": "a98cc911",
   "metadata": {},
   "outputs": [
    {
     "data": {
      "text/plain": [
       "release_year\n",
       "2021    2104\n",
       "Name: id, dtype: int64"
      ]
     },
     "execution_count": 262,
     "metadata": {},
     "output_type": "execute_result"
    }
   ],
   "source": [
    "year_max_content[year_max_content==2104]"
   ]
  },
  {
   "cell_type": "code",
   "execution_count": 263,
   "id": "2b409365",
   "metadata": {},
   "outputs": [
    {
     "data": {
      "text/plain": [
       "2104"
      ]
     },
     "execution_count": 263,
     "metadata": {},
     "output_type": "execute_result"
    }
   ],
   "source": [
    "max(year_max_content)\n"
   ]
  },
  {
   "cell_type": "markdown",
   "id": "6c2657c6",
   "metadata": {},
   "source": [
    "# En 2021"
   ]
  },
  {
   "cell_type": "markdown",
   "id": "2efa0d2b",
   "metadata": {},
   "source": [
    "# ¿Qué género tiene más contenido?"
   ]
  },
  {
   "cell_type": "code",
   "execution_count": 264,
   "id": "6e51d4a0",
   "metadata": {},
   "outputs": [
    {
     "data": {
      "text/html": [
       "<div>\n",
       "<style scoped>\n",
       "    .dataframe tbody tr th:only-of-type {\n",
       "        vertical-align: middle;\n",
       "    }\n",
       "\n",
       "    .dataframe tbody tr th {\n",
       "        vertical-align: top;\n",
       "    }\n",
       "\n",
       "    .dataframe thead th {\n",
       "        text-align: right;\n",
       "    }\n",
       "</style>\n",
       "<table border=\"1\" class=\"dataframe\">\n",
       "  <thead>\n",
       "    <tr style=\"text-align: right;\">\n",
       "      <th></th>\n",
       "      <th>id</th>\n",
       "    </tr>\n",
       "    <tr>\n",
       "      <th>genres</th>\n",
       "      <th></th>\n",
       "    </tr>\n",
       "  </thead>\n",
       "  <tbody>\n",
       "    <tr>\n",
       "      <th>['action', 'animation', 'comedy', 'crime', 'drama']</th>\n",
       "      <td>1</td>\n",
       "    </tr>\n",
       "    <tr>\n",
       "      <th>['action', 'animation', 'comedy', 'crime', 'family', 'fantasy', 'scifi']</th>\n",
       "      <td>1</td>\n",
       "    </tr>\n",
       "    <tr>\n",
       "      <th>['action', 'animation', 'comedy', 'crime']</th>\n",
       "      <td>1</td>\n",
       "    </tr>\n",
       "    <tr>\n",
       "      <th>['action', 'animation', 'comedy', 'drama', 'family', 'fantasy', 'scifi']</th>\n",
       "      <td>2</td>\n",
       "    </tr>\n",
       "    <tr>\n",
       "      <th>['action', 'animation', 'comedy', 'drama', 'family', 'western', 'documentation']</th>\n",
       "      <td>1</td>\n",
       "    </tr>\n",
       "    <tr>\n",
       "      <th>...</th>\n",
       "      <td>...</td>\n",
       "    </tr>\n",
       "    <tr>\n",
       "      <th>['western', 'war', 'drama', 'history', 'romance']</th>\n",
       "      <td>2</td>\n",
       "    </tr>\n",
       "    <tr>\n",
       "      <th>['western', 'war', 'romance']</th>\n",
       "      <td>1</td>\n",
       "    </tr>\n",
       "    <tr>\n",
       "      <th>['western', 'war']</th>\n",
       "      <td>3</td>\n",
       "    </tr>\n",
       "    <tr>\n",
       "      <th>['western']</th>\n",
       "      <td>166</td>\n",
       "    </tr>\n",
       "    <tr>\n",
       "      <th>[]</th>\n",
       "      <td>412</td>\n",
       "    </tr>\n",
       "  </tbody>\n",
       "</table>\n",
       "<p>4053 rows × 1 columns</p>\n",
       "</div>"
      ],
      "text/plain": [
       "                                                     id\n",
       "genres                                                 \n",
       "['action', 'animation', 'comedy', 'crime', 'dra...    1\n",
       "['action', 'animation', 'comedy', 'crime', 'fam...    1\n",
       "['action', 'animation', 'comedy', 'crime']            1\n",
       "['action', 'animation', 'comedy', 'drama', 'fam...    2\n",
       "['action', 'animation', 'comedy', 'drama', 'fam...    1\n",
       "...                                                 ...\n",
       "['western', 'war', 'drama', 'history', 'romance']     2\n",
       "['western', 'war', 'romance']                         1\n",
       "['western', 'war']                                    3\n",
       "['western']                                         166\n",
       "[]                                                  412\n",
       "\n",
       "[4053 rows x 1 columns]"
      ]
     },
     "execution_count": 264,
     "metadata": {},
     "output_type": "execute_result"
    }
   ],
   "source": [
    "gen_max=all_datos[[\"genres\", \"id\"]].groupby([\"genres\"]).count()\n",
    "gen_max"
   ]
  },
  {
   "cell_type": "code",
   "execution_count": 265,
   "id": "8e8c6845",
   "metadata": {},
   "outputs": [
    {
     "data": {
      "text/html": [
       "<div>\n",
       "<style scoped>\n",
       "    .dataframe tbody tr th:only-of-type {\n",
       "        vertical-align: middle;\n",
       "    }\n",
       "\n",
       "    .dataframe tbody tr th {\n",
       "        vertical-align: top;\n",
       "    }\n",
       "\n",
       "    .dataframe thead th {\n",
       "        text-align: right;\n",
       "    }\n",
       "</style>\n",
       "<table border=\"1\" class=\"dataframe\">\n",
       "  <thead>\n",
       "    <tr style=\"text-align: right;\">\n",
       "      <th></th>\n",
       "      <th>id</th>\n",
       "    </tr>\n",
       "    <tr>\n",
       "      <th>genres</th>\n",
       "      <th></th>\n",
       "    </tr>\n",
       "  </thead>\n",
       "  <tbody>\n",
       "    <tr>\n",
       "      <th>['documentation']</th>\n",
       "      <td>1682</td>\n",
       "    </tr>\n",
       "    <tr>\n",
       "      <th>['comedy']</th>\n",
       "      <td>1663</td>\n",
       "    </tr>\n",
       "    <tr>\n",
       "      <th>['drama']</th>\n",
       "      <td>1603</td>\n",
       "    </tr>\n",
       "    <tr>\n",
       "      <th>[]</th>\n",
       "      <td>412</td>\n",
       "    </tr>\n",
       "    <tr>\n",
       "      <th>['comedy', 'drama']</th>\n",
       "      <td>379</td>\n",
       "    </tr>\n",
       "    <tr>\n",
       "      <th>...</th>\n",
       "      <td>...</td>\n",
       "    </tr>\n",
       "    <tr>\n",
       "      <th>['drama', 'european', 'comedy', 'romance', 'war']</th>\n",
       "      <td>1</td>\n",
       "    </tr>\n",
       "    <tr>\n",
       "      <th>['drama', 'european', 'comedy', 'romance']</th>\n",
       "      <td>1</td>\n",
       "    </tr>\n",
       "    <tr>\n",
       "      <th>['drama', 'european', 'comedy', 'war']</th>\n",
       "      <td>1</td>\n",
       "    </tr>\n",
       "    <tr>\n",
       "      <th>['drama', 'european', 'crime', 'history', 'romance']</th>\n",
       "      <td>1</td>\n",
       "    </tr>\n",
       "    <tr>\n",
       "      <th>['action', 'animation', 'comedy', 'crime', 'drama']</th>\n",
       "      <td>1</td>\n",
       "    </tr>\n",
       "  </tbody>\n",
       "</table>\n",
       "<p>4053 rows × 1 columns</p>\n",
       "</div>"
      ],
      "text/plain": [
       "                                                      id\n",
       "genres                                                  \n",
       "['documentation']                                   1682\n",
       "['comedy']                                          1663\n",
       "['drama']                                           1603\n",
       "[]                                                   412\n",
       "['comedy', 'drama']                                  379\n",
       "...                                                  ...\n",
       "['drama', 'european', 'comedy', 'romance', 'war']      1\n",
       "['drama', 'european', 'comedy', 'romance']             1\n",
       "['drama', 'european', 'comedy', 'war']                 1\n",
       "['drama', 'european', 'crime', 'history', 'roma...     1\n",
       "['action', 'animation', 'comedy', 'crime', 'dra...     1\n",
       "\n",
       "[4053 rows x 1 columns]"
      ]
     },
     "execution_count": 265,
     "metadata": {},
     "output_type": "execute_result"
    }
   ],
   "source": [
    "gen_max.sort_values(by=\"id\", ascending=False)\n"
   ]
  },
  {
   "cell_type": "markdown",
   "id": "442cdda5",
   "metadata": {},
   "source": [
    "## documentations es el que tiene más contenido"
   ]
  },
  {
   "cell_type": "markdown",
   "id": "7d5ac807",
   "metadata": {},
   "source": [
    "# ¿Cuáles son los géneros únicos, no mezclados?"
   ]
  },
  {
   "cell_type": "code",
   "execution_count": 266,
   "id": "23ae8059",
   "metadata": {},
   "outputs": [
    {
     "data": {
      "text/plain": [
       "['action',\n",
       " 'drama',\n",
       " 'crime',\n",
       " 'thriller',\n",
       " 'history',\n",
       " 'documentation',\n",
       " 'war',\n",
       " 'horror',\n",
       " 'sport',\n",
       " 'animation',\n",
       " 'comedy',\n",
       " 'western',\n",
       " 'fantasy',\n",
       " 'family',\n",
       " 'scifi',\n",
       " 'european',\n",
       " 'music',\n",
       " 'reality',\n",
       " 'romance']"
      ]
     },
     "execution_count": 266,
     "metadata": {},
     "output_type": "execute_result"
    }
   ],
   "source": [
    "generos_unicos=[]\n",
    "a=list(set(all_datos[\"genres\"]))\n",
    "for row in a:\n",
    "    for item in eval(row): #eval viene de evaluation\n",
    "        if not item in generos_unicos:\n",
    "            generos_unicos.append(item)\n",
    "generos_unicos"
   ]
  },
  {
   "cell_type": "markdown",
   "id": "1f9d357b",
   "metadata": {},
   "source": [
    "# ¿Cuántos elementos hay por cada categoría única?"
   ]
  },
  {
   "cell_type": "code",
   "execution_count": 267,
   "id": "606fe223",
   "metadata": {},
   "outputs": [],
   "source": [
    "for genero in generos_unicos:\n",
    "    all_datos[genero]=all_datos.apply(lambda row: 1 if genero in eval(row[\"genres\"]) else 0, axis=1)\n",
    "    "
   ]
  },
  {
   "cell_type": "code",
   "execution_count": 268,
   "id": "9f273223",
   "metadata": {
    "scrolled": true
   },
   "outputs": [
    {
     "data": {
      "text/plain": [
       "action            4308\n",
       "drama            10527\n",
       "crime             3080\n",
       "thriller          4477\n",
       "history            983\n",
       "documentation     3568\n",
       "war                708\n",
       "horror            1954\n",
       "sport              631\n",
       "animation         2147\n",
       "comedy            8032\n",
       "western            843\n",
       "fantasy           2189\n",
       "family            2749\n",
       "scifi             2217\n",
       "european          1647\n",
       "music             1065\n",
       "reality            609\n",
       "romance           3852\n",
       "dtype: int64"
      ]
     },
     "execution_count": 268,
     "metadata": {},
     "output_type": "execute_result"
    }
   ],
   "source": [
    "generos_count=all_datos[generos_unicos].sum(axis=0)\n",
    "generos_count"
   ]
  },
  {
   "cell_type": "code",
   "execution_count": 279,
   "id": "c8e49094",
   "metadata": {},
   "outputs": [],
   "source": [
    "import matplotlib.pyplot as plt\n",
    "import matplotlib.colors as mcolors\n"
   ]
  },
  {
   "cell_type": "code",
   "execution_count": 291,
   "id": "3ed5fa77",
   "metadata": {
    "scrolled": true
   },
   "outputs": [
    {
     "data": {
      "text/plain": [
       "<AxesSubplot:>"
      ]
     },
     "execution_count": 291,
     "metadata": {},
     "output_type": "execute_result"
    },
    {
     "data": {
      "image/png": "[encoded data removed]",
      "text/plain": [
       "<Figure size 432x288 with 1 Axes>"
      ]
     },
     "metadata": {
      "needs_background": "light"
     },
     "output_type": "display_data"
    }
   ],
   "source": [
    "\n",
    "import matplotlib.colors as mcolors\n",
    "generos_count.plot.bar(color=mcolors.TABLEAU_COLORS, alpha=1)"
   ]
  },
  {
   "cell_type": "markdown",
   "id": "6caba829",
   "metadata": {},
   "source": [
    "# ¿Cómo se distribuye el contenido por cada plataforma?"
   ]
  },
  {
   "cell_type": "code",
   "execution_count": 283,
   "id": "3bbb671c",
   "metadata": {},
   "outputs": [
    {
     "data": {
      "text/plain": [
       "service\n",
       "Amazon Prime    9871\n",
       "Disney+         1535\n",
       "HBO Max         3294\n",
       "Netflix         5806\n",
       "Paramount+      2825\n",
       "Name: id, dtype: int64"
      ]
     },
     "execution_count": 283,
     "metadata": {},
     "output_type": "execute_result"
    }
   ],
   "source": [
    "plataforma=all_datos.groupby(\"service\")[\"id\"].count()\n",
    "plataforma"
   ]
  },
  {
   "cell_type": "code",
   "execution_count": 214,
   "id": "ea0fc914",
   "metadata": {},
   "outputs": [
    {
     "data": {
      "text/plain": [
       "pandas.core.series.Series"
      ]
     },
     "execution_count": 214,
     "metadata": {},
     "output_type": "execute_result"
    }
   ],
   "source": [
    "type(plataforma)"
   ]
  },
  {
   "cell_type": "code",
   "execution_count": 284,
   "id": "3576cfb6",
   "metadata": {},
   "outputs": [
    {
     "data": {
      "text/plain": [
       "<AxesSubplot:xlabel='service'>"
      ]
     },
     "execution_count": 284,
     "metadata": {},
     "output_type": "execute_result"
    },
    {
     "data": {
      "image/png": "[encoded data removed]",
      "text/plain": [
       "<Figure size 432x288 with 1 Axes>"
      ]
     },
     "metadata": {
      "needs_background": "light"
     },
     "output_type": "display_data"
    }
   ],
   "source": [
    "plataforma.plot( kind=\"bar\", color=[\"steelblue\",\"mediumblue\",\"purple\",\"red\",\"darkcyan\"])\n",
    "\n"
   ]
  },
  {
   "cell_type": "markdown",
   "id": "0a682279",
   "metadata": {},
   "source": [
    "# Y si comparamos por serie y películas, ¿Cuántos hay en cada plataforma?"
   ]
  },
  {
   "cell_type": "code",
   "execution_count": 292,
   "id": "9cbdcbcc",
   "metadata": {},
   "outputs": [
    {
     "data": {
      "text/html": [
       "<div>\n",
       "<style scoped>\n",
       "    .dataframe tbody tr th:only-of-type {\n",
       "        vertical-align: middle;\n",
       "    }\n",
       "\n",
       "    .dataframe tbody tr th {\n",
       "        vertical-align: top;\n",
       "    }\n",
       "\n",
       "    .dataframe thead th {\n",
       "        text-align: right;\n",
       "    }\n",
       "</style>\n",
       "<table border=\"1\" class=\"dataframe\">\n",
       "  <thead>\n",
       "    <tr style=\"text-align: right;\">\n",
       "      <th></th>\n",
       "      <th></th>\n",
       "      <th>id</th>\n",
       "    </tr>\n",
       "    <tr>\n",
       "      <th>service</th>\n",
       "      <th>type</th>\n",
       "      <th></th>\n",
       "    </tr>\n",
       "  </thead>\n",
       "  <tbody>\n",
       "    <tr>\n",
       "      <th rowspan=\"2\" valign=\"top\">Amazon Prime</th>\n",
       "      <th>MOVIE</th>\n",
       "      <td>8514</td>\n",
       "    </tr>\n",
       "    <tr>\n",
       "      <th>SHOW</th>\n",
       "      <td>1357</td>\n",
       "    </tr>\n",
       "    <tr>\n",
       "      <th rowspan=\"2\" valign=\"top\">Disney+</th>\n",
       "      <th>MOVIE</th>\n",
       "      <td>1120</td>\n",
       "    </tr>\n",
       "    <tr>\n",
       "      <th>SHOW</th>\n",
       "      <td>415</td>\n",
       "    </tr>\n",
       "    <tr>\n",
       "      <th rowspan=\"2\" valign=\"top\">HBO Max</th>\n",
       "      <th>MOVIE</th>\n",
       "      <td>2538</td>\n",
       "    </tr>\n",
       "    <tr>\n",
       "      <th>SHOW</th>\n",
       "      <td>756</td>\n",
       "    </tr>\n",
       "    <tr>\n",
       "      <th rowspan=\"2\" valign=\"top\">Netflix</th>\n",
       "      <th>MOVIE</th>\n",
       "      <td>3759</td>\n",
       "    </tr>\n",
       "    <tr>\n",
       "      <th>SHOW</th>\n",
       "      <td>2047</td>\n",
       "    </tr>\n",
       "    <tr>\n",
       "      <th rowspan=\"2\" valign=\"top\">Paramount+</th>\n",
       "      <th>MOVIE</th>\n",
       "      <td>2199</td>\n",
       "    </tr>\n",
       "    <tr>\n",
       "      <th>SHOW</th>\n",
       "      <td>626</td>\n",
       "    </tr>\n",
       "  </tbody>\n",
       "</table>\n",
       "</div>"
      ],
      "text/plain": [
       "                      id\n",
       "service      type       \n",
       "Amazon Prime MOVIE  8514\n",
       "             SHOW   1357\n",
       "Disney+      MOVIE  1120\n",
       "             SHOW    415\n",
       "HBO Max      MOVIE  2538\n",
       "             SHOW    756\n",
       "Netflix      MOVIE  3759\n",
       "             SHOW   2047\n",
       "Paramount+   MOVIE  2199\n",
       "             SHOW    626"
      ]
     },
     "execution_count": 292,
     "metadata": {},
     "output_type": "execute_result"
    }
   ],
   "source": [
    "plataforma_tipo=all_datos[[\"service\",\"type\", \"id\"]].groupby([\"service\",\"type\"]).count()\n",
    "plataforma_tipo"
   ]
  },
  {
   "cell_type": "code",
   "execution_count": 293,
   "id": "822a38aa",
   "metadata": {},
   "outputs": [
    {
     "data": {
      "text/plain": [
       "<AxesSubplot:xlabel='service'>"
      ]
     },
     "execution_count": 293,
     "metadata": {},
     "output_type": "execute_result"
    },
    {
     "data": {
      "image/png": "[encoded data removed]",
      "text/plain": [
       "<Figure size 432x288 with 1 Axes>"
      ]
     },
     "metadata": {
      "needs_background": "light"
     },
     "output_type": "display_data"
    }
   ],
   "source": [
    "plataforma_tipo.unstack().plot(kind=\"bar\",stacked=True)"
   ]
  },
  {
   "cell_type": "markdown",
   "id": "939e8318",
   "metadata": {},
   "source": [
    "# ¿Qué tan viejo / nuevo es el contenido total?"
   ]
  },
  {
   "cell_type": "code",
   "execution_count": null,
   "id": "3ed7291c",
   "metadata": {},
   "outputs": [],
   "source": []
  },
  {
   "cell_type": "code",
   "execution_count": 209,
   "id": "b05d5f1c",
   "metadata": {},
   "outputs": [
    {
     "data": {
      "text/plain": [
       "min    1901\n",
       "max    2022\n",
       "Name: release_year, dtype: int64"
      ]
     },
     "execution_count": 209,
     "metadata": {},
     "output_type": "execute_result"
    }
   ],
   "source": [
    "all_datos[\"release_year\"].agg([\"min\",\"max\"])"
   ]
  },
  {
   "cell_type": "code",
   "execution_count": 16,
   "id": "5744792f",
   "metadata": {},
   "outputs": [
    {
     "data": {
      "text/plain": [
       "2022"
      ]
     },
     "execution_count": 16,
     "metadata": {},
     "output_type": "execute_result"
    }
   ],
   "source": [
    "all_datos[\"release_year\"].max()"
   ]
  },
  {
   "cell_type": "code",
   "execution_count": 287,
   "id": "5957f90c",
   "metadata": {},
   "outputs": [
    {
     "data": {
      "text/plain": [
       "1901"
      ]
     },
     "execution_count": 287,
     "metadata": {},
     "output_type": "execute_result"
    }
   ],
   "source": [
    "all_datos[\"release_year\"].min()"
   ]
  },
  {
   "cell_type": "markdown",
   "id": "3c77acf1",
   "metadata": {},
   "source": [
    "# Y si lo desglozamos por plataforma, ¿cómo sería?"
   ]
  },
  {
   "cell_type": "code",
   "execution_count": 294,
   "id": "b9facbda",
   "metadata": {},
   "outputs": [
    {
     "data": {
      "text/html": [
       "<div>\n",
       "<style scoped>\n",
       "    .dataframe tbody tr th:only-of-type {\n",
       "        vertical-align: middle;\n",
       "    }\n",
       "\n",
       "    .dataframe tbody tr th {\n",
       "        vertical-align: top;\n",
       "    }\n",
       "\n",
       "    .dataframe thead tr th {\n",
       "        text-align: left;\n",
       "    }\n",
       "\n",
       "    .dataframe thead tr:last-of-type th {\n",
       "        text-align: right;\n",
       "    }\n",
       "</style>\n",
       "<table border=\"1\" class=\"dataframe\">\n",
       "  <thead>\n",
       "    <tr>\n",
       "      <th></th>\n",
       "      <th colspan=\"2\" halign=\"left\">release_year</th>\n",
       "    </tr>\n",
       "    <tr>\n",
       "      <th></th>\n",
       "      <th>min</th>\n",
       "      <th>max</th>\n",
       "    </tr>\n",
       "    <tr>\n",
       "      <th>service</th>\n",
       "      <th></th>\n",
       "      <th></th>\n",
       "    </tr>\n",
       "  </thead>\n",
       "  <tbody>\n",
       "    <tr>\n",
       "      <th>Amazon Prime</th>\n",
       "      <td>1912</td>\n",
       "      <td>2022</td>\n",
       "    </tr>\n",
       "    <tr>\n",
       "      <th>Disney+</th>\n",
       "      <td>1928</td>\n",
       "      <td>2022</td>\n",
       "    </tr>\n",
       "    <tr>\n",
       "      <th>HBO Max</th>\n",
       "      <td>1901</td>\n",
       "      <td>2022</td>\n",
       "    </tr>\n",
       "    <tr>\n",
       "      <th>Netflix</th>\n",
       "      <td>1945</td>\n",
       "      <td>2022</td>\n",
       "    </tr>\n",
       "    <tr>\n",
       "      <th>Paramount+</th>\n",
       "      <td>1912</td>\n",
       "      <td>2022</td>\n",
       "    </tr>\n",
       "  </tbody>\n",
       "</table>\n",
       "</div>"
      ],
      "text/plain": [
       "             release_year      \n",
       "                      min   max\n",
       "service                        \n",
       "Amazon Prime         1912  2022\n",
       "Disney+              1928  2022\n",
       "HBO Max              1901  2022\n",
       "Netflix              1945  2022\n",
       "Paramount+           1912  2022"
      ]
     },
     "execution_count": 294,
     "metadata": {},
     "output_type": "execute_result"
    }
   ],
   "source": [
    "plataforma_year=all_datos[[\"release_year\",\"service\"]].groupby([\"service\"]).agg([\"min\",\"max\"])\n",
    "plataforma_year"
   ]
  },
  {
   "cell_type": "code",
   "execution_count": 295,
   "id": "137619a3",
   "metadata": {},
   "outputs": [
    {
     "data": {
      "text/html": [
       "<div>\n",
       "<style scoped>\n",
       "    .dataframe tbody tr th:only-of-type {\n",
       "        vertical-align: middle;\n",
       "    }\n",
       "\n",
       "    .dataframe tbody tr th {\n",
       "        vertical-align: top;\n",
       "    }\n",
       "\n",
       "    .dataframe thead th {\n",
       "        text-align: right;\n",
       "    }\n",
       "</style>\n",
       "<table border=\"1\" class=\"dataframe\">\n",
       "  <thead>\n",
       "    <tr style=\"text-align: right;\">\n",
       "      <th></th>\n",
       "      <th>release_year</th>\n",
       "    </tr>\n",
       "    <tr>\n",
       "      <th>service</th>\n",
       "      <th></th>\n",
       "    </tr>\n",
       "  </thead>\n",
       "  <tbody>\n",
       "    <tr>\n",
       "      <th>Amazon Prime</th>\n",
       "      <td>1912</td>\n",
       "    </tr>\n",
       "    <tr>\n",
       "      <th>Disney+</th>\n",
       "      <td>1928</td>\n",
       "    </tr>\n",
       "    <tr>\n",
       "      <th>HBO Max</th>\n",
       "      <td>1901</td>\n",
       "    </tr>\n",
       "    <tr>\n",
       "      <th>Netflix</th>\n",
       "      <td>1945</td>\n",
       "    </tr>\n",
       "    <tr>\n",
       "      <th>Paramount+</th>\n",
       "      <td>1912</td>\n",
       "    </tr>\n",
       "  </tbody>\n",
       "</table>\n",
       "</div>"
      ],
      "text/plain": [
       "              release_year\n",
       "service                   \n",
       "Amazon Prime          1912\n",
       "Disney+               1928\n",
       "HBO Max               1901\n",
       "Netflix               1945\n",
       "Paramount+            1912"
      ]
     },
     "execution_count": 295,
     "metadata": {},
     "output_type": "execute_result"
    }
   ],
   "source": [
    "plataforma_year_min=all_datos[[\"release_year\",\"service\"]].groupby([\"service\"]).min()\n",
    "plataforma_year_min"
   ]
  },
  {
   "cell_type": "code",
   "execution_count": 297,
   "id": "bd37e1ee",
   "metadata": {},
   "outputs": [
    {
     "data": {
      "text/html": [
       "<div>\n",
       "<style scoped>\n",
       "    .dataframe tbody tr th:only-of-type {\n",
       "        vertical-align: middle;\n",
       "    }\n",
       "\n",
       "    .dataframe tbody tr th {\n",
       "        vertical-align: top;\n",
       "    }\n",
       "\n",
       "    .dataframe thead th {\n",
       "        text-align: right;\n",
       "    }\n",
       "</style>\n",
       "<table border=\"1\" class=\"dataframe\">\n",
       "  <thead>\n",
       "    <tr style=\"text-align: right;\">\n",
       "      <th></th>\n",
       "      <th>release_year</th>\n",
       "    </tr>\n",
       "    <tr>\n",
       "      <th>service</th>\n",
       "      <th></th>\n",
       "    </tr>\n",
       "  </thead>\n",
       "  <tbody>\n",
       "    <tr>\n",
       "      <th>Amazon Prime</th>\n",
       "      <td>2022</td>\n",
       "    </tr>\n",
       "    <tr>\n",
       "      <th>Disney+</th>\n",
       "      <td>2022</td>\n",
       "    </tr>\n",
       "    <tr>\n",
       "      <th>HBO Max</th>\n",
       "      <td>2022</td>\n",
       "    </tr>\n",
       "    <tr>\n",
       "      <th>Netflix</th>\n",
       "      <td>2022</td>\n",
       "    </tr>\n",
       "    <tr>\n",
       "      <th>Paramount+</th>\n",
       "      <td>2022</td>\n",
       "    </tr>\n",
       "  </tbody>\n",
       "</table>\n",
       "</div>"
      ],
      "text/plain": [
       "              release_year\n",
       "service                   \n",
       "Amazon Prime          2022\n",
       "Disney+               2022\n",
       "HBO Max               2022\n",
       "Netflix               2022\n",
       "Paramount+            2022"
      ]
     },
     "execution_count": 297,
     "metadata": {},
     "output_type": "execute_result"
    }
   ],
   "source": [
    "plataforma_year_max=all_datos[[\"release_year\",\"service\"]].groupby([\"service\"]).max()\n",
    "plataforma_year_max"
   ]
  },
  {
   "cell_type": "markdown",
   "id": "9338300d",
   "metadata": {},
   "source": [
    "# Grafiquemos los géneros más populares por plataforma."
   ]
  },
  {
   "cell_type": "code",
   "execution_count": 298,
   "id": "6babf57e",
   "metadata": {
    "scrolled": true
   },
   "outputs": [
    {
     "data": {
      "text/html": [
       "<div>\n",
       "<style scoped>\n",
       "    .dataframe tbody tr th:only-of-type {\n",
       "        vertical-align: middle;\n",
       "    }\n",
       "\n",
       "    .dataframe tbody tr th {\n",
       "        vertical-align: top;\n",
       "    }\n",
       "\n",
       "    .dataframe thead th {\n",
       "        text-align: right;\n",
       "    }\n",
       "</style>\n",
       "<table border=\"1\" class=\"dataframe\">\n",
       "  <thead>\n",
       "    <tr style=\"text-align: right;\">\n",
       "      <th></th>\n",
       "      <th>plataforma</th>\n",
       "      <th>genero</th>\n",
       "      <th>popularidad</th>\n",
       "    </tr>\n",
       "  </thead>\n",
       "  <tbody>\n",
       "    <tr>\n",
       "      <th>0</th>\n",
       "      <td>Amazon Prime</td>\n",
       "      <td>action</td>\n",
       "      <td>893.650</td>\n",
       "    </tr>\n",
       "    <tr>\n",
       "      <th>1</th>\n",
       "      <td>Amazon Prime</td>\n",
       "      <td>drama</td>\n",
       "      <td>389.431</td>\n",
       "    </tr>\n",
       "    <tr>\n",
       "      <th>2</th>\n",
       "      <td>Amazon Prime</td>\n",
       "      <td>crime</td>\n",
       "      <td>893.650</td>\n",
       "    </tr>\n",
       "    <tr>\n",
       "      <th>3</th>\n",
       "      <td>Amazon Prime</td>\n",
       "      <td>thriller</td>\n",
       "      <td>1437.906</td>\n",
       "    </tr>\n",
       "    <tr>\n",
       "      <th>4</th>\n",
       "      <td>Amazon Prime</td>\n",
       "      <td>history</td>\n",
       "      <td>344.245</td>\n",
       "    </tr>\n",
       "    <tr>\n",
       "      <th>...</th>\n",
       "      <td>...</td>\n",
       "      <td>...</td>\n",
       "      <td>...</td>\n",
       "    </tr>\n",
       "    <tr>\n",
       "      <th>90</th>\n",
       "      <td>Paramount+</td>\n",
       "      <td>scifi</td>\n",
       "      <td>4579.160</td>\n",
       "    </tr>\n",
       "    <tr>\n",
       "      <th>91</th>\n",
       "      <td>Paramount+</td>\n",
       "      <td>european</td>\n",
       "      <td>71.720</td>\n",
       "    </tr>\n",
       "    <tr>\n",
       "      <th>92</th>\n",
       "      <td>Paramount+</td>\n",
       "      <td>music</td>\n",
       "      <td>76.049</td>\n",
       "    </tr>\n",
       "    <tr>\n",
       "      <th>93</th>\n",
       "      <td>Paramount+</td>\n",
       "      <td>reality</td>\n",
       "      <td>116.296</td>\n",
       "    </tr>\n",
       "    <tr>\n",
       "      <th>94</th>\n",
       "      <td>Paramount+</td>\n",
       "      <td>romance</td>\n",
       "      <td>707.594</td>\n",
       "    </tr>\n",
       "  </tbody>\n",
       "</table>\n",
       "<p>95 rows × 3 columns</p>\n",
       "</div>"
      ],
      "text/plain": [
       "      plataforma    genero  popularidad\n",
       "0   Amazon Prime    action      893.650\n",
       "1   Amazon Prime     drama      389.431\n",
       "2   Amazon Prime     crime      893.650\n",
       "3   Amazon Prime  thriller     1437.906\n",
       "4   Amazon Prime   history      344.245\n",
       "..           ...       ...          ...\n",
       "90    Paramount+     scifi     4579.160\n",
       "91    Paramount+  european       71.720\n",
       "92    Paramount+     music       76.049\n",
       "93    Paramount+   reality      116.296\n",
       "94    Paramount+   romance      707.594\n",
       "\n",
       "[95 rows x 3 columns]"
      ]
     },
     "execution_count": 298,
     "metadata": {},
     "output_type": "execute_result"
    }
   ],
   "source": [
    "plataformas=[\"Amazon Prime\",\"Disney+\",\"HBO Max\",\"Netflix\",\"Paramount+\"]\n",
    "full_df={\"plataforma\":[], \"genero\":[], \"popularidad\":[]}\n",
    "\n",
    "for plataforma in plataformas:\n",
    "    for genero in generos_unicos:\n",
    "        subdf=all_datos[(all_datos[genero]==1 )& (all_datos[\"service\"]==plataforma)]\n",
    "        popularidad=subdf[\"tmdb_popularity\"].max()\n",
    "        full_df[\"plataforma\"].append(plataforma)\n",
    "        full_df[\"genero\"].append(genero)\n",
    "        full_df[\"popularidad\"].append(popularidad)\n",
    "        \n",
    "full_df2=pd.DataFrame(full_df)\n",
    "full_df2\n",
    "        \n",
    "        \n",
    "        "
   ]
  },
  {
   "cell_type": "code",
   "execution_count": 299,
   "id": "d7123870",
   "metadata": {},
   "outputs": [
    {
     "name": "stdout",
     "output_type": "stream",
     "text": [
      "Amazon Prime 1437.906\n",
      "Disney+ 9323.832\n",
      "HBO Max 4447.894\n",
      "Netflix 1823.374\n",
      "Paramount+ 4579.16\n"
     ]
    }
   ],
   "source": [
    "for plataforma in plataformas:\n",
    "    aa=full_df2[full_df2[\"plataforma\"]==plataforma][\"popularidad\"].max()\n",
    "    print(plataforma, aa)"
   ]
  },
  {
   "cell_type": "code",
   "execution_count": 300,
   "id": "45ccd5c8",
   "metadata": {
    "scrolled": true
   },
   "outputs": [
    {
     "data": {
      "text/html": [
       "<div>\n",
       "<style scoped>\n",
       "    .dataframe tbody tr th:only-of-type {\n",
       "        vertical-align: middle;\n",
       "    }\n",
       "\n",
       "    .dataframe tbody tr th {\n",
       "        vertical-align: top;\n",
       "    }\n",
       "\n",
       "    .dataframe thead th {\n",
       "        text-align: right;\n",
       "    }\n",
       "</style>\n",
       "<table border=\"1\" class=\"dataframe\">\n",
       "  <thead>\n",
       "    <tr style=\"text-align: right;\">\n",
       "      <th></th>\n",
       "      <th>genero</th>\n",
       "      <th>popularidad</th>\n",
       "    </tr>\n",
       "    <tr>\n",
       "      <th>plataforma</th>\n",
       "      <th></th>\n",
       "      <th></th>\n",
       "    </tr>\n",
       "  </thead>\n",
       "  <tbody>\n",
       "    <tr>\n",
       "      <th>Amazon Prime</th>\n",
       "      <td>western</td>\n",
       "      <td>1437.906</td>\n",
       "    </tr>\n",
       "    <tr>\n",
       "      <th>Disney+</th>\n",
       "      <td>western</td>\n",
       "      <td>9323.832</td>\n",
       "    </tr>\n",
       "    <tr>\n",
       "      <th>HBO Max</th>\n",
       "      <td>western</td>\n",
       "      <td>4447.894</td>\n",
       "    </tr>\n",
       "    <tr>\n",
       "      <th>Netflix</th>\n",
       "      <td>western</td>\n",
       "      <td>1823.374</td>\n",
       "    </tr>\n",
       "    <tr>\n",
       "      <th>Paramount+</th>\n",
       "      <td>western</td>\n",
       "      <td>4579.160</td>\n",
       "    </tr>\n",
       "  </tbody>\n",
       "</table>\n",
       "</div>"
      ],
      "text/plain": [
       "               genero  popularidad\n",
       "plataforma                        \n",
       "Amazon Prime  western     1437.906\n",
       "Disney+       western     9323.832\n",
       "HBO Max       western     4447.894\n",
       "Netflix       western     1823.374\n",
       "Paramount+    western     4579.160"
      ]
     },
     "execution_count": 300,
     "metadata": {},
     "output_type": "execute_result"
    }
   ],
   "source": [
    "\n",
    "full_df3=full_df2.groupby(\"plataforma\").max()\n",
    "full_df3"
   ]
  },
  {
   "cell_type": "code",
   "execution_count": 302,
   "id": "846a950a",
   "metadata": {
    "scrolled": true
   },
   "outputs": [
    {
     "data": {
      "text/plain": [
       "<AxesSubplot:xlabel='plataforma'>"
      ]
     },
     "execution_count": 302,
     "metadata": {},
     "output_type": "execute_result"
    },
    {
     "data": {
      "image/png": "[encoded data removed]",
      "text/plain": [
       "<Figure size 432x288 with 1 Axes>"
      ]
     },
     "metadata": {
      "needs_background": "light"
     },
     "output_type": "display_data"
    }
   ],
   "source": [
    "full_df3.plot.bar(color=\"red\")"
   ]
  },
  {
   "cell_type": "code",
   "execution_count": 239,
   "id": "e73b9d0b",
   "metadata": {},
   "outputs": [
    {
     "data": {
      "text/plain": [
       "6"
      ]
     },
     "execution_count": 239,
     "metadata": {},
     "output_type": "execute_result"
    }
   ],
   "source": [
    "X=len(\"plataforma\")\n",
    "X\n",
    "Y=len(\"genero\")\n",
    "Y"
   ]
  },
  {
   "cell_type": "code",
   "execution_count": 303,
   "id": "5fa464e8",
   "metadata": {},
   "outputs": [
    {
     "data": {
      "text/plain": [
       "0    Amazon Prime\n",
       "1         Disney+\n",
       "2         HBO Max\n",
       "3         Netflix\n",
       "4      Paramount+\n",
       "Name: plataforma, dtype: object"
      ]
     },
     "execution_count": 303,
     "metadata": {},
     "output_type": "execute_result"
    }
   ],
   "source": [
    "full_df3.reset_index()[\"plataforma\"]"
   ]
  },
  {
   "cell_type": "code",
   "execution_count": 307,
   "id": "f678ae1b",
   "metadata": {},
   "outputs": [
    {
     "data": {
      "image/png": "[encoded data removed]",
      "text/plain": [
       "<Figure size 432x288 with 1 Axes>"
      ]
     },
     "metadata": {
      "needs_background": "light"
     },
     "output_type": "display_data"
    }
   ],
   "source": [
    "full_df3.plot.bar(x=\"genero\",y=\"popularidad\")\n",
    "for x,y,t in zip([0,1,2,3,4],list(full_df3[\"popularidad\"]),list(full_df3.reset_index()[\"plataforma\"])):\n",
    "    plt.text(x-0.15,y,t)\n",
    "plt.show()"
   ]
  },
  {
   "cell_type": "code",
   "execution_count": 306,
   "id": "da024fa7",
   "metadata": {
    "collapsed": true
   },
   "outputs": [
    {
     "ename": "KeyError",
     "evalue": "'plataforma'",
     "output_type": "error",
     "traceback": [
      "\u001b[1;31m---------------------------------------------------------------------------\u001b[0m",
      "\u001b[1;31mKeyError\u001b[0m                                  Traceback (most recent call last)",
      "File \u001b[1;32m~\\anaconda3\\lib\\site-packages\\pandas\\core\\indexes\\base.py:3621\u001b[0m, in \u001b[0;36mIndex.get_loc\u001b[1;34m(self, key, method, tolerance)\u001b[0m\n\u001b[0;32m   3620\u001b[0m \u001b[38;5;28;01mtry\u001b[39;00m:\n\u001b[1;32m-> 3621\u001b[0m     \u001b[38;5;28;01mreturn\u001b[39;00m \u001b[38;5;28;43mself\u001b[39;49m\u001b[38;5;241;43m.\u001b[39;49m\u001b[43m_engine\u001b[49m\u001b[38;5;241;43m.\u001b[39;49m\u001b[43mget_loc\u001b[49m\u001b[43m(\u001b[49m\u001b[43mcasted_key\u001b[49m\u001b[43m)\u001b[49m\n\u001b[0;32m   3622\u001b[0m \u001b[38;5;28;01mexcept\u001b[39;00m \u001b[38;5;167;01mKeyError\u001b[39;00m \u001b[38;5;28;01mas\u001b[39;00m err:\n",
      "File \u001b[1;32m~\\anaconda3\\lib\\site-packages\\pandas\\_libs\\index.pyx:136\u001b[0m, in \u001b[0;36mpandas._libs.index.IndexEngine.get_loc\u001b[1;34m()\u001b[0m\n",
      "File \u001b[1;32m~\\anaconda3\\lib\\site-packages\\pandas\\_libs\\index.pyx:163\u001b[0m, in \u001b[0;36mpandas._libs.index.IndexEngine.get_loc\u001b[1;34m()\u001b[0m\n",
      "File \u001b[1;32mpandas\\_libs\\hashtable_class_helper.pxi:5198\u001b[0m, in \u001b[0;36mpandas._libs.hashtable.PyObjectHashTable.get_item\u001b[1;34m()\u001b[0m\n",
      "File \u001b[1;32mpandas\\_libs\\hashtable_class_helper.pxi:5206\u001b[0m, in \u001b[0;36mpandas._libs.hashtable.PyObjectHashTable.get_item\u001b[1;34m()\u001b[0m\n",
      "\u001b[1;31mKeyError\u001b[0m: 'plataforma'",
      "\nThe above exception was the direct cause of the following exception:\n",
      "\u001b[1;31mKeyError\u001b[0m                                  Traceback (most recent call last)",
      "Input \u001b[1;32mIn [306]\u001b[0m, in \u001b[0;36m<cell line: 1>\u001b[1;34m()\u001b[0m\n\u001b[1;32m----> 1\u001b[0m \u001b[43mfull_df3\u001b[49m\u001b[38;5;241;43m.\u001b[39;49m\u001b[43mplot\u001b[49m\u001b[38;5;241;43m.\u001b[39;49m\u001b[43mbar\u001b[49m\u001b[43m(\u001b[49m\u001b[43mx\u001b[49m\u001b[38;5;241;43m=\u001b[39;49m\u001b[38;5;124;43m\"\u001b[39;49m\u001b[38;5;124;43mplataforma\u001b[39;49m\u001b[38;5;124;43m\"\u001b[39;49m\u001b[43m,\u001b[49m\u001b[43my\u001b[49m\u001b[38;5;241;43m=\u001b[39;49m\u001b[38;5;124;43m\"\u001b[39;49m\u001b[38;5;124;43mpopularidad\u001b[39;49m\u001b[38;5;124;43m\"\u001b[39;49m\u001b[43m)\u001b[49m\n\u001b[0;32m      2\u001b[0m \u001b[38;5;28;01mfor\u001b[39;00m x,y,t \u001b[38;5;129;01min\u001b[39;00m \u001b[38;5;28mzip\u001b[39m([\u001b[38;5;241m0\u001b[39m,\u001b[38;5;241m1\u001b[39m,\u001b[38;5;241m2\u001b[39m,\u001b[38;5;241m3\u001b[39m,\u001b[38;5;241m4\u001b[39m],\u001b[38;5;28mlist\u001b[39m(full_df3[\u001b[38;5;124m\"\u001b[39m\u001b[38;5;124mplataforma\u001b[39m\u001b[38;5;124m\"\u001b[39m]),\u001b[38;5;28mlist\u001b[39m(full_df3\u001b[38;5;241m.\u001b[39mreset_index()[\u001b[38;5;124m\"\u001b[39m\u001b[38;5;124mgenero\u001b[39m\u001b[38;5;124m\"\u001b[39m])):\n\u001b[0;32m      3\u001b[0m     plt\u001b[38;5;241m.\u001b[39mtext(x\u001b[38;5;241m-\u001b[39m\u001b[38;5;241m0.15\u001b[39m,y,t)\n",
      "File \u001b[1;32m~\\anaconda3\\lib\\site-packages\\pandas\\plotting\\_core.py:1131\u001b[0m, in \u001b[0;36mPlotAccessor.bar\u001b[1;34m(self, x, y, **kwargs)\u001b[0m\n\u001b[0;32m   1043\u001b[0m \u001b[38;5;129m@Appender\u001b[39m(\n\u001b[0;32m   1044\u001b[0m     \u001b[38;5;124;03m\"\"\"\u001b[39;00m\n\u001b[0;32m   1045\u001b[0m \u001b[38;5;124;03m    See Also\u001b[39;00m\n\u001b[1;32m   (...)\u001b[0m\n\u001b[0;32m   1120\u001b[0m \u001b[38;5;129m@Appender\u001b[39m(_bar_or_line_doc)\n\u001b[0;32m   1121\u001b[0m \u001b[38;5;28;01mdef\u001b[39;00m \u001b[38;5;21mbar\u001b[39m(\u001b[38;5;28mself\u001b[39m, x\u001b[38;5;241m=\u001b[39m\u001b[38;5;28;01mNone\u001b[39;00m, y\u001b[38;5;241m=\u001b[39m\u001b[38;5;28;01mNone\u001b[39;00m, \u001b[38;5;241m*\u001b[39m\u001b[38;5;241m*\u001b[39mkwargs):\n\u001b[0;32m   1122\u001b[0m     \u001b[38;5;124;03m\"\"\"\u001b[39;00m\n\u001b[0;32m   1123\u001b[0m \u001b[38;5;124;03m    Vertical bar plot.\u001b[39;00m\n\u001b[0;32m   1124\u001b[0m \n\u001b[1;32m   (...)\u001b[0m\n\u001b[0;32m   1129\u001b[0m \u001b[38;5;124;03m    other axis represents a measured value.\u001b[39;00m\n\u001b[0;32m   1130\u001b[0m \u001b[38;5;124;03m    \"\"\"\u001b[39;00m\n\u001b[1;32m-> 1131\u001b[0m     \u001b[38;5;28;01mreturn\u001b[39;00m \u001b[38;5;28mself\u001b[39m(kind\u001b[38;5;241m=\u001b[39m\u001b[38;5;124m\"\u001b[39m\u001b[38;5;124mbar\u001b[39m\u001b[38;5;124m\"\u001b[39m, x\u001b[38;5;241m=\u001b[39mx, y\u001b[38;5;241m=\u001b[39my, \u001b[38;5;241m*\u001b[39m\u001b[38;5;241m*\u001b[39mkwargs)\n",
      "File \u001b[1;32m~\\anaconda3\\lib\\site-packages\\pandas\\plotting\\_core.py:937\u001b[0m, in \u001b[0;36mPlotAccessor.__call__\u001b[1;34m(self, *args, **kwargs)\u001b[0m\n\u001b[0;32m    935\u001b[0m \u001b[38;5;28;01mif\u001b[39;00m is_integer(x) \u001b[38;5;129;01mand\u001b[39;00m \u001b[38;5;129;01mnot\u001b[39;00m data\u001b[38;5;241m.\u001b[39mcolumns\u001b[38;5;241m.\u001b[39mholds_integer():\n\u001b[0;32m    936\u001b[0m     x \u001b[38;5;241m=\u001b[39m data_cols[x]\n\u001b[1;32m--> 937\u001b[0m \u001b[38;5;28;01melif\u001b[39;00m \u001b[38;5;129;01mnot\u001b[39;00m \u001b[38;5;28misinstance\u001b[39m(\u001b[43mdata\u001b[49m\u001b[43m[\u001b[49m\u001b[43mx\u001b[49m\u001b[43m]\u001b[49m, ABCSeries):\n\u001b[0;32m    938\u001b[0m     \u001b[38;5;28;01mraise\u001b[39;00m \u001b[38;5;167;01mValueError\u001b[39;00m(\u001b[38;5;124m\"\u001b[39m\u001b[38;5;124mx must be a label or position\u001b[39m\u001b[38;5;124m\"\u001b[39m)\n\u001b[0;32m    939\u001b[0m data \u001b[38;5;241m=\u001b[39m data\u001b[38;5;241m.\u001b[39mset_index(x)\n",
      "File \u001b[1;32m~\\anaconda3\\lib\\site-packages\\pandas\\core\\frame.py:3505\u001b[0m, in \u001b[0;36mDataFrame.__getitem__\u001b[1;34m(self, key)\u001b[0m\n\u001b[0;32m   3503\u001b[0m \u001b[38;5;28;01mif\u001b[39;00m \u001b[38;5;28mself\u001b[39m\u001b[38;5;241m.\u001b[39mcolumns\u001b[38;5;241m.\u001b[39mnlevels \u001b[38;5;241m>\u001b[39m \u001b[38;5;241m1\u001b[39m:\n\u001b[0;32m   3504\u001b[0m     \u001b[38;5;28;01mreturn\u001b[39;00m \u001b[38;5;28mself\u001b[39m\u001b[38;5;241m.\u001b[39m_getitem_multilevel(key)\n\u001b[1;32m-> 3505\u001b[0m indexer \u001b[38;5;241m=\u001b[39m \u001b[38;5;28;43mself\u001b[39;49m\u001b[38;5;241;43m.\u001b[39;49m\u001b[43mcolumns\u001b[49m\u001b[38;5;241;43m.\u001b[39;49m\u001b[43mget_loc\u001b[49m\u001b[43m(\u001b[49m\u001b[43mkey\u001b[49m\u001b[43m)\u001b[49m\n\u001b[0;32m   3506\u001b[0m \u001b[38;5;28;01mif\u001b[39;00m is_integer(indexer):\n\u001b[0;32m   3507\u001b[0m     indexer \u001b[38;5;241m=\u001b[39m [indexer]\n",
      "File \u001b[1;32m~\\anaconda3\\lib\\site-packages\\pandas\\core\\indexes\\base.py:3623\u001b[0m, in \u001b[0;36mIndex.get_loc\u001b[1;34m(self, key, method, tolerance)\u001b[0m\n\u001b[0;32m   3621\u001b[0m     \u001b[38;5;28;01mreturn\u001b[39;00m \u001b[38;5;28mself\u001b[39m\u001b[38;5;241m.\u001b[39m_engine\u001b[38;5;241m.\u001b[39mget_loc(casted_key)\n\u001b[0;32m   3622\u001b[0m \u001b[38;5;28;01mexcept\u001b[39;00m \u001b[38;5;167;01mKeyError\u001b[39;00m \u001b[38;5;28;01mas\u001b[39;00m err:\n\u001b[1;32m-> 3623\u001b[0m     \u001b[38;5;28;01mraise\u001b[39;00m \u001b[38;5;167;01mKeyError\u001b[39;00m(key) \u001b[38;5;28;01mfrom\u001b[39;00m \u001b[38;5;21;01merr\u001b[39;00m\n\u001b[0;32m   3624\u001b[0m \u001b[38;5;28;01mexcept\u001b[39;00m \u001b[38;5;167;01mTypeError\u001b[39;00m:\n\u001b[0;32m   3625\u001b[0m     \u001b[38;5;66;03m# If we have a listlike key, _check_indexing_error will raise\u001b[39;00m\n\u001b[0;32m   3626\u001b[0m     \u001b[38;5;66;03m#  InvalidIndexError. Otherwise we fall through and re-raise\u001b[39;00m\n\u001b[0;32m   3627\u001b[0m     \u001b[38;5;66;03m#  the TypeError.\u001b[39;00m\n\u001b[0;32m   3628\u001b[0m     \u001b[38;5;28mself\u001b[39m\u001b[38;5;241m.\u001b[39m_check_indexing_error(key)\n",
      "\u001b[1;31mKeyError\u001b[0m: 'plataforma'"
     ]
    }
   ],
   "source": [
    "full_df3.plot.bar(x=\"plataforma\",y=\"popularidad\")\n",
    "for x,y,t in zip([0,1,2,3,4],list(full_df3[\"plataforma\"]),list(full_df3.reset_index()[\"genero\"])):\n",
    "    plt.text(x-0.15,y,t)\n",
    "plt.show()"
   ]
  },
  {
   "cell_type": "markdown",
   "id": "291b9595",
   "metadata": {},
   "source": [
    "# Finalmente, planteése una pregunta con estos datos y contestela explorándolos."
   ]
  },
  {
   "cell_type": "code",
   "execution_count": 270,
   "id": "89edfbd0",
   "metadata": {
    "scrolled": false
   },
   "outputs": [
    {
     "data": {
      "text/plain": [
       "Index(['id', 'title', 'type', 'description', 'release_year',\n",
       "       'age_certification', 'runtime', 'genres', 'production_countries',\n",
       "       'seasons', 'imdb_id', 'imdb_score', 'imdb_votes', 'tmdb_popularity',\n",
       "       'tmdb_score', 'service', 'reality', 'romance', 'drama', 'comedy',\n",
       "       'scifi', 'action', 'fantasy', 'european', 'animation', 'thriller',\n",
       "       'family', 'documentation', 'horror', 'crime', 'western', 'sport',\n",
       "       'history', 'war', 'music'],\n",
       "      dtype='object')"
      ]
     },
     "execution_count": 270,
     "metadata": {},
     "output_type": "execute_result"
    }
   ],
   "source": [
    "all_datos.columns"
   ]
  },
  {
   "cell_type": "markdown",
   "id": "22c7d90d",
   "metadata": {},
   "source": []
  },
  {
   "cell_type": "markdown",
   "id": "61eca5e5",
   "metadata": {},
   "source": [
    "# ¿cual es la cantidad de peliculas y series por año?"
   ]
  },
  {
   "cell_type": "code",
   "execution_count": 320,
   "id": "d59b9cc2",
   "metadata": {
    "scrolled": true
   },
   "outputs": [
    {
     "data": {
      "text/plain": [
       "<AxesSubplot:xlabel='release_year'>"
      ]
     },
     "execution_count": 320,
     "metadata": {},
     "output_type": "execute_result"
    },
    {
     "data": {
      "image/png": "[encoded data removed]",
      "text/plain": [
       "<Figure size 432x288 with 1 Axes>"
      ]
     },
     "metadata": {
      "needs_background": "light"
     },
     "output_type": "display_data"
    }
   ],
   "source": [
    "aaa=all_datos[[\"type\",\"release_year\",\"id\"]].groupby([\"release_year\",\"type\"]).count()\n",
    "aaa.unstack().plot()\n",
    "#plt.xticks(np.arange(\"release_year\", step=5))\n"
   ]
  },
  {
   "cell_type": "code",
   "execution_count": 331,
   "id": "2b59d29a",
   "metadata": {},
   "outputs": [
    {
     "data": {
      "text/html": [
       "<div>\n",
       "<style scoped>\n",
       "    .dataframe tbody tr th:only-of-type {\n",
       "        vertical-align: middle;\n",
       "    }\n",
       "\n",
       "    .dataframe tbody tr th {\n",
       "        vertical-align: top;\n",
       "    }\n",
       "\n",
       "    .dataframe thead th {\n",
       "        text-align: right;\n",
       "    }\n",
       "</style>\n",
       "<table border=\"1\" class=\"dataframe\">\n",
       "  <thead>\n",
       "    <tr style=\"text-align: right;\">\n",
       "      <th></th>\n",
       "      <th></th>\n",
       "      <th>id</th>\n",
       "    </tr>\n",
       "    <tr>\n",
       "      <th>release_year</th>\n",
       "      <th>type</th>\n",
       "      <th></th>\n",
       "    </tr>\n",
       "  </thead>\n",
       "  <tbody>\n",
       "    <tr>\n",
       "      <th>1901</th>\n",
       "      <th>MOVIE</th>\n",
       "      <td>1</td>\n",
       "    </tr>\n",
       "    <tr>\n",
       "      <th>1902</th>\n",
       "      <th>MOVIE</th>\n",
       "      <td>2</td>\n",
       "    </tr>\n",
       "    <tr>\n",
       "      <th>1903</th>\n",
       "      <th>MOVIE</th>\n",
       "      <td>1</td>\n",
       "    </tr>\n",
       "    <tr>\n",
       "      <th>1904</th>\n",
       "      <th>MOVIE</th>\n",
       "      <td>1</td>\n",
       "    </tr>\n",
       "    <tr>\n",
       "      <th>1906</th>\n",
       "      <th>MOVIE</th>\n",
       "      <td>2</td>\n",
       "    </tr>\n",
       "    <tr>\n",
       "      <th>...</th>\n",
       "      <th>...</th>\n",
       "      <td>...</td>\n",
       "    </tr>\n",
       "    <tr>\n",
       "      <th>2020</th>\n",
       "      <th>SHOW</th>\n",
       "      <td>600</td>\n",
       "    </tr>\n",
       "    <tr>\n",
       "      <th rowspan=\"2\" valign=\"top\">2021</th>\n",
       "      <th>MOVIE</th>\n",
       "      <td>1459</td>\n",
       "    </tr>\n",
       "    <tr>\n",
       "      <th>SHOW</th>\n",
       "      <td>645</td>\n",
       "    </tr>\n",
       "    <tr>\n",
       "      <th rowspan=\"2\" valign=\"top\">2022</th>\n",
       "      <th>MOVIE</th>\n",
       "      <td>212</td>\n",
       "    </tr>\n",
       "    <tr>\n",
       "      <th>SHOW</th>\n",
       "      <td>211</td>\n",
       "    </tr>\n",
       "  </tbody>\n",
       "</table>\n",
       "<p>191 rows × 1 columns</p>\n",
       "</div>"
      ],
      "text/plain": [
       "                      id\n",
       "release_year type       \n",
       "1901         MOVIE     1\n",
       "1902         MOVIE     2\n",
       "1903         MOVIE     1\n",
       "1904         MOVIE     1\n",
       "1906         MOVIE     2\n",
       "...                  ...\n",
       "2020         SHOW    600\n",
       "2021         MOVIE  1459\n",
       "             SHOW    645\n",
       "2022         MOVIE   212\n",
       "             SHOW    211\n",
       "\n",
       "[191 rows x 1 columns]"
      ]
     },
     "execution_count": 331,
     "metadata": {},
     "output_type": "execute_result"
    }
   ],
   "source": [
    "aaa"
   ]
  }
 ],
 "metadata": {
  "kernelspec": {
   "display_name": "Python 3 (ipykernel)",
   "language": "python",
   "name": "python3"
  },
  "language_info": {
   "codemirror_mode": {
    "name": "ipython",
    "version": 3
   },
   "file_extension": ".py",
   "mimetype": "text/x-python",
   "name": "python",
   "nbconvert_exporter": "python",
   "pygments_lexer": "ipython3",
   "version": "3.9.12"
  }
 },
 "nbformat": 4,
 "nbformat_minor": 5
}
